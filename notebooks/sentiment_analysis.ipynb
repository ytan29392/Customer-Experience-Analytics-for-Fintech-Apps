{
 "cells": [
  {
   "cell_type": "code",
   "execution_count": 3,
   "id": "832bd5eb",
   "metadata": {},
   "outputs": [],
   "source": [
    "import pandas as pd\n",
    "import sys, os\n",
    "import seaborn as sns\n",
    "import matplotlib.pyplot as plt\n",
    "\n",
    "\n",
    "sys.path.append(os.path.abspath('../src'))\n",
    "\n",
    "from sentiment import analyze_sentiment"
   ]
  },
  {
   "cell_type": "markdown",
   "id": "b073393f",
   "metadata": {},
   "source": [
    "Load cleaned data"
   ]
  },
  {
   "cell_type": "code",
   "execution_count": null,
   "id": "5b294471",
   "metadata": {},
   "outputs": [],
   "source": [
    "df = pd.read_csv('../data/bank_reviews_clean.csv')"
   ]
  },
  {
   "cell_type": "markdown",
   "id": "70206049",
   "metadata": {},
   "source": [
    "Apply sentiment analysis"
   ]
  },
  {
   "cell_type": "code",
   "execution_count": null,
   "id": "d3068648",
   "metadata": {},
   "outputs": [],
   "source": [
    "df = analyze_sentiment(df)"
   ]
  },
  {
   "cell_type": "markdown",
   "id": "156731eb",
   "metadata": {},
   "source": [
    "Save updated data"
   ]
  },
  {
   "cell_type": "code",
   "execution_count": null,
   "id": "6853ba1d",
   "metadata": {},
   "outputs": [],
   "source": [
    "df.to_csv('../data/bank_reviews_with_sentiment.csv', index=False)\n",
    "\n",
    "df[['review', 'sentiment_label', 'sentiment_score']].head()"
   ]
  },
  {
   "cell_type": "markdown",
   "id": "364a4805",
   "metadata": {},
   "source": [
    "Plot sentiment distribution"
   ]
  },
  {
   "cell_type": "code",
   "execution_count": null,
   "id": "3e7b1395",
   "metadata": {},
   "outputs": [],
   "source": [
    "# visualize sentiment distribution\n",
    "sns.set(style='whitegrid')\n",
    "plt.figure(figsize=(10,6))\n",
    "sns.countplot(data=df, x='sentiment_label', hue='bank')\n",
    "plt.title(\"Sentiment Distribution per Bank\")\n",
    "plt.xlabel(\"Sentiment\")\n",
    "plt.ylabel(\"Number of Reviews\")\n",
    "plt.legend(title=\"Bank\")\n",
    "plt.tight_layout()\n",
    "plt.show()"
   ]
  }
 ],
 "metadata": {
  "kernelspec": {
   "display_name": ".venv",
   "language": "python",
   "name": "python3"
  },
  "language_info": {
   "codemirror_mode": {
    "name": "ipython",
    "version": 3
   },
   "file_extension": ".py",
   "mimetype": "text/x-python",
   "name": "python",
   "nbconvert_exporter": "python",
   "pygments_lexer": "ipython3",
   "version": "3.13.1"
  }
 },
 "nbformat": 4,
 "nbformat_minor": 5
}
