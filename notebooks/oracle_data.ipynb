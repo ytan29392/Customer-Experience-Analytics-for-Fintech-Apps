{
 "cells": [
  {
   "cell_type": "code",
   "execution_count": null,
   "id": "cdab0b02",
   "metadata": {},
   "outputs": [],
   "source": [
    "from pathlib import Path\n",
    "import pandas as pd\n",
    "import sys\n",
    "sys.path.append(str(Path(\"../\").resolve()))\n",
    "from src.database_handler import OracleDB\n",
    "\n",
    "df = pd.read_csv(Path(\"../data/processed/reviews_final.csv\"))\n",
    "df['keywords'] = df['keywords'].apply(eval)\n",
    "\n",
    "db = OracleDB()\n",
    "try:\n",
    "    db.create_tables()\n",
    "    db.insert_data(df)\n",
    "    print(\"Data successfully loaded into Oracle!\")\n",
    "except Exception as e:\n",
    "    print(f\"Error: {e}\")\n",
    "finally:\n",
    "    db.close()\n"
   ]
  }
 ],
 "metadata": {
  "kernelspec": {
   "display_name": ".venv",
   "language": "python",
   "name": "python3"
  },
  "language_info": {
   "codemirror_mode": {
    "name": "ipython",
    "version": 3
   },
   "file_extension": ".py",
   "mimetype": "text/x-python",
   "name": "python",
   "nbconvert_exporter": "python",
   "pygments_lexer": "ipython3",
   "version": "3.11.9"
  }
 },
 "nbformat": 4,
 "nbformat_minor": 5
}
