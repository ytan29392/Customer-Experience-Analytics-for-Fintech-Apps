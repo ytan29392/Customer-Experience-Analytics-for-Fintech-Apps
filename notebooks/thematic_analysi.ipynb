{
 "cells": [
  {
   "cell_type": "markdown",
   "id": "15ad0286",
   "metadata": {},
   "source": [
    "Import"
   ]
  },
  {
   "cell_type": "code",
   "execution_count": null,
   "id": "1a64c514",
   "metadata": {},
   "outputs": [],
   "source": [
    "import pandas as pd\n",
    "import sys, os\n",
    "\n",
    "sys.path.append(os.path.abspath('..'))\n",
    "\n",
    "from src.themes import extract_keywords, map_keywords_to_themes\n"
   ]
  },
  {
   "cell_type": "code",
   "execution_count": null,
   "id": "eb7106a3",
   "metadata": {},
   "outputs": [],
   "source": [
    "# Load sentiment-augmented data\n",
    "df = pd.read_csv('../data/bank_reviews_with_sentiment.csv')\n",
    "\n",
    "# Extract keywords\n",
    "df = extract_keywords(df)\n",
    "\n",
    "# Map keywords to themes\n",
    "themes = map_keywords_to_themes(df)\n",
    "\n",
    "df[['review', 'keywords']].head()\n",
    "\n",
    "\n",
    "import matplotlib.pyplot as plt\n",
    "\n",
    "for bank, theme_data in themes.items():\n",
    "    theme_names, counts = zip(*theme_data)\n",
    "    plt.figure(figsize=(8,4))\n",
    "    plt.bar(theme_names, counts, color='skyblue')\n",
    "    plt.title(f'Top Themes for {bank}')\n",
    "    plt.xlabel('Theme')\n",
    "    plt.ylabel('Keyword Count')\n",
    "    plt.xticks(rotation=45)\n",
    "    plt.tight_layout()\n",
    "    plt.show()"
   ]
  }
 ],
 "metadata": {
  "kernelspec": {
   "display_name": "Python 3",
   "language": "python",
   "name": "python3"
  },
  "language_info": {
   "codemirror_mode": {
    "name": "ipython",
    "version": 3
   },
   "file_extension": ".py",
   "mimetype": "text/x-python",
   "name": "python",
   "nbconvert_exporter": "python",
   "pygments_lexer": "ipython3",
   "version": "3.11.9"
  }
 },
 "nbformat": 4,
 "nbformat_minor": 5
}
