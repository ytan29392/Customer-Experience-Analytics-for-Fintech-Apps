{
 "cells": [
  {
   "cell_type": "markdown",
   "id": "89f62af8",
   "metadata": {},
   "source": [
    "Import "
   ]
  },
  {
   "cell_type": "code",
   "execution_count": 46,
   "id": "8cb5f273",
   "metadata": {},
   "outputs": [],
   "source": [
    "import pandas as pd\n",
    "import os\n",
    "import sys\n",
    "sys.path.append(os.path.abspath('..'))\n",
    "\n",
    "from src.scraper import scrape_reviews, save_raw_data\n",
    "from src.cleaner import clean_data"
   ]
  },
  {
   "cell_type": "markdown",
   "id": "65b5fec5",
   "metadata": {},
   "source": [
    "Define App IDs and Scrape"
   ]
  },
  {
   "cell_type": "code",
   "execution_count": 44,
   "id": "e25521f9",
   "metadata": {},
   "outputs": [
    {
     "name": "stdout",
     "output_type": "stream",
     "text": [
      "Failed to scrape Commercial Bank of Ethiopia: reviews() got an unexpected keyword argument 'timeout'\n",
      "Failed to scrape Bank of Abyssinia: reviews() got an unexpected keyword argument 'timeout'\n",
      "Failed to scrape Dashen Bank: reviews() got an unexpected keyword argument 'timeout'\n",
      "No reviews were scraped. Please check your app IDs or scraping function.\n"
     ]
    }
   ],
   "source": [
    "# Define App IDs and Names\n",
    "app_ids = [\n",
    "    \"com.combanketh.mobilebanking\",      # CBE\n",
    "    \"com.boa.boaMobileBanking\",          # BOA\n",
    "    \"com.dashen.dashensuperapp\"          # Dashen\n",
    "]\n",
    "app_names = [\n",
    "    \"Commercial Bank of Ethiopia\",\n",
    "    \"Bank of Abyssinia\",\n",
    "    \"Dashen Bank\"\n",
    "]\n",
    "\n",
    "# Scrape and clean reviews\n",
    "raw_reviews = scrape_reviews(app_ids, app_names, review_count=500)\n",
    "\n",
    "if raw_reviews.empty:\n",
    "    print(\"No reviews were scraped. Please check your app IDs or scraping function.\")\n",
    "    cleaned_reviews = pd.DataFrame()\n",
    "else:\n",
    "    cleaned_reviews = clean_data(raw_reviews)\n",
    "    # Save to file\n",
    "    save_raw_data(cleaned_reviews, output_dir=\"../data\", file_name=\"bank_reviews_clean.csv\")\n",
    "    display(cleaned_reviews.head())\n",
    "    print(f\"Cleaned reviews saved to ../data/bank_reviews_clean.csv\")"
   ]
  }
 ],
 "metadata": {
  "kernelspec": {
   "display_name": ".venv",
   "language": "python",
   "name": "python3"
  },
  "language_info": {
   "codemirror_mode": {
    "name": "ipython",
    "version": 3
   },
   "file_extension": ".py",
   "mimetype": "text/x-python",
   "name": "python",
   "nbconvert_exporter": "python",
   "pygments_lexer": "ipython3",
   "version": "3.13.1"
  }
 },
 "nbformat": 4,
 "nbformat_minor": 5
}
