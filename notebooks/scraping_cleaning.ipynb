{
 "cells": [
  {
   "cell_type": "markdown",
   "id": "89f62af8",
   "metadata": {},
   "source": [
    "Import "
   ]
  },
  {
   "cell_type": "code",
   "execution_count": 2,
   "id": "8cb5f273",
   "metadata": {},
   "outputs": [],
   "source": [
    "import pandas as pd\n",
    "import os\n",
    "import sys\n",
    "sys.path.append(os.path.abspath('..'))\n",
    "\n",
    "from src.scraper import scrape_bank\n",
    "from src.cleaner import clean_data\n",
    "from src.saver import save_raw_data\n"
   ]
  },
  {
   "cell_type": "markdown",
   "id": "65b5fec5",
   "metadata": {},
   "source": [
    "Define App IDs and Scrape"
   ]
  },
  {
   "cell_type": "code",
   "execution_count": 4,
   "id": "acc43507",
   "metadata": {},
   "outputs": [
    {
     "name": "stdout",
     "output_type": "stream",
     "text": [
      "Fetching Commercial Bank of Ethiopia reviews...\n",
      "Fetching Bank of Abyssinia reviews...\n",
      "Fetching Dashen Bank reviews...\n",
      "File already exists: ../data\\bank_reviews_clean.csv. Skipping save.\n"
     ]
    },
    {
     "data": {
      "text/html": [
       "<div>\n",
       "<style scoped>\n",
       "    .dataframe tbody tr th:only-of-type {\n",
       "        vertical-align: middle;\n",
       "    }\n",
       "\n",
       "    .dataframe tbody tr th {\n",
       "        vertical-align: top;\n",
       "    }\n",
       "\n",
       "    .dataframe thead th {\n",
       "        text-align: right;\n",
       "    }\n",
       "</style>\n",
       "<table border=\"1\" class=\"dataframe\">\n",
       "  <thead>\n",
       "    <tr style=\"text-align: right;\">\n",
       "      <th></th>\n",
       "      <th>review_text</th>\n",
       "      <th>rating</th>\n",
       "      <th>date</th>\n",
       "      <th>bank_name</th>\n",
       "      <th>source</th>\n",
       "    </tr>\n",
       "  </thead>\n",
       "  <tbody>\n",
       "    <tr>\n",
       "      <th>0</th>\n",
       "      <td>very good app</td>\n",
       "      <td>1</td>\n",
       "      <td>2025-06-09</td>\n",
       "      <td>Commercial Bank of Ethiopia</td>\n",
       "      <td>Google Play</td>\n",
       "    </tr>\n",
       "    <tr>\n",
       "      <th>1</th>\n",
       "      <td>Very amazing app indeed. I'm enjoying it</td>\n",
       "      <td>5</td>\n",
       "      <td>2025-06-08</td>\n",
       "      <td>Commercial Bank of Ethiopia</td>\n",
       "      <td>Google Play</td>\n",
       "    </tr>\n",
       "    <tr>\n",
       "      <th>2</th>\n",
       "      <td>Best</td>\n",
       "      <td>5</td>\n",
       "      <td>2025-06-08</td>\n",
       "      <td>Commercial Bank of Ethiopia</td>\n",
       "      <td>Google Play</td>\n",
       "    </tr>\n",
       "    <tr>\n",
       "      <th>3</th>\n",
       "      <td>20 years</td>\n",
       "      <td>5</td>\n",
       "      <td>2025-06-08</td>\n",
       "      <td>Commercial Bank of Ethiopia</td>\n",
       "      <td>Google Play</td>\n",
       "    </tr>\n",
       "    <tr>\n",
       "      <th>4</th>\n",
       "      <td>A great app. It's like carrying a bank in your...</td>\n",
       "      <td>4</td>\n",
       "      <td>2025-06-07</td>\n",
       "      <td>Commercial Bank of Ethiopia</td>\n",
       "      <td>Google Play</td>\n",
       "    </tr>\n",
       "  </tbody>\n",
       "</table>\n",
       "</div>"
      ],
      "text/plain": [
       "                                         review_text  rating        date  \\\n",
       "0                                      very good app       1  2025-06-09   \n",
       "1           Very amazing app indeed. I'm enjoying it       5  2025-06-08   \n",
       "2                                               Best       5  2025-06-08   \n",
       "3                                           20 years       5  2025-06-08   \n",
       "4  A great app. It's like carrying a bank in your...       4  2025-06-07   \n",
       "\n",
       "                     bank_name       source  \n",
       "0  Commercial Bank of Ethiopia  Google Play  \n",
       "1  Commercial Bank of Ethiopia  Google Play  \n",
       "2  Commercial Bank of Ethiopia  Google Play  \n",
       "3  Commercial Bank of Ethiopia  Google Play  \n",
       "4  Commercial Bank of Ethiopia  Google Play  "
      ]
     },
     "metadata": {},
     "output_type": "display_data"
    },
    {
     "name": "stdout",
     "output_type": "stream",
     "text": [
      "Cleaned reviews saved to ../data/bank_reviews_clean.csv\n"
     ]
    }
   ],
   "source": [
    "# App IDs and Names\n",
    "app_ids = [\n",
    "    \"com.combanketh.mobilebanking\",      \n",
    "    \"com.boa.boaMobileBanking\",          \n",
    "    \"com.dashen.dashensuperapp\"          \n",
    "]\n",
    "app_names = [\n",
    "    \"Commercial Bank of Ethiopia\",\n",
    "    \"Bank of Abyssinia\",\n",
    "    \"Dashen Bank\"\n",
    "]\n",
    "\n",
    "# Scrape and clean reviews\n",
    "raw_reviews = scrape_bank(app_ids, app_names)\n",
    "\n",
    "if raw_reviews is None or raw_reviews.empty:\n",
    "    print(\"No reviews were scraped. Please check your app IDs or scraping function.\")\n",
    "    cleaned_reviews = pd.DataFrame()\n",
    "else:\n",
    "    cleaned_reviews = clean_data(raw_reviews)\n",
    "    save_raw_data(cleaned_reviews, output_dir=\"../data\", file_name=\"bank_reviews_clean.csv\")\n",
    "    display(cleaned_reviews.head())\n",
    "    print(\"Cleaned reviews saved to ../data/bank_reviews_clean.csv\")\n"
   ]
  }
 ],
 "metadata": {
  "kernelspec": {
   "display_name": "Python 3",
   "language": "python",
   "name": "python3"
  },
  "language_info": {
   "codemirror_mode": {
    "name": "ipython",
    "version": 3
   },
   "file_extension": ".py",
   "mimetype": "text/x-python",
   "name": "python",
   "nbconvert_exporter": "python",
   "pygments_lexer": "ipython3",
   "version": "3.11.9"
  }
 },
 "nbformat": 4,
 "nbformat_minor": 5
}
