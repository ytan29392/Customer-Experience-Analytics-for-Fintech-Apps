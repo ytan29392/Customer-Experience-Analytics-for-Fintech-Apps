{
 "cells": [
  {
   "cell_type": "markdown",
   "id": "89f62af8",
   "metadata": {},
   "source": [
    "Import "
   ]
  },
  {
   "cell_type": "code",
   "execution_count": 14,
   "id": "8cb5f273",
   "metadata": {},
   "outputs": [],
   "source": [
    "import pandas as pd\n",
    "import os\n",
    "import sys\n",
    "sys.path.append(os.path.abspath('..'))\n",
    "\n",
    "from src.play_store_scraper import scrape_bank\n",
    "from src.cleaner import clean_data\n",
    "from src.saver import save_raw_data\n"
   ]
  },
  {
   "cell_type": "markdown",
   "id": "65b5fec5",
   "metadata": {},
   "source": [
    "Define App IDs and Scrape"
   ]
  },
  {
   "cell_type": "code",
   "execution_count": 15,
   "id": "acc43507",
   "metadata": {},
   "outputs": [
    {
     "name": "stdout",
     "output_type": "stream",
     "text": [
      "No reviews were scraped. Please check your app IDs or scraping function.\n"
     ]
    }
   ],
   "source": [
    "# App IDs and Names\n",
    "app_ids = [\n",
    "    \"com.combanketh.mobilebanking\",      \n",
    "    \"com.boa.boaMobileBanking\",          \n",
    "    \"com.dashen.dashensuperapp\"          \n",
    "]\n",
    "app_names = [\n",
    "    \"Commercial Bank of Ethiopia\",\n",
    "    \"Bank of Abyssinia\",\n",
    "    \"Dashen Bank\"\n",
    "]\n",
    "\n",
    "# Scrape and clean reviews\n",
    "raw_reviews = scrape_bank(app_ids, app_names)\n",
    "\n",
    "if raw_reviews is None or raw_reviews.empty:\n",
    "    print(\"No reviews were scraped. Please check your app IDs or scraping function.\")\n",
    "    cleaned_reviews = pd.DataFrame()\n",
    "else:\n",
    "    cleaned_reviews = clean_data(raw_reviews)\n",
    "    save_raw_data(cleaned_reviews, output_dir=\"../data\", file_name=\"bank_reviews_clean.csv\")\n",
    "    display(cleaned_reviews.head())\n",
    "    print(\"Cleaned reviews saved to ../data/bank_reviews_clean.csv\")\n"
   ]
  }
 ],
 "metadata": {
  "kernelspec": {
   "display_name": "Python 3",
   "language": "python",
   "name": "python3"
  },
  "language_info": {
   "codemirror_mode": {
    "name": "ipython",
    "version": 3
   },
   "file_extension": ".py",
   "mimetype": "text/x-python",
   "name": "python",
   "nbconvert_exporter": "python",
   "pygments_lexer": "ipython3",
   "version": "3.11.9"
  }
 },
 "nbformat": 4,
 "nbformat_minor": 5
}
