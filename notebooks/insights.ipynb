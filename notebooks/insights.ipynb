{
 "cells": [
  {
   "cell_type": "markdown",
   "id": "56035d22",
   "metadata": {},
   "source": [
    "Import"
   ]
  },
  {
   "cell_type": "code",
   "execution_count": 9,
   "id": "979c6a8f",
   "metadata": {},
   "outputs": [],
   "source": [
    "import sys\n",
    "from pathlib import Path\n",
    "\n",
    "sys.path.append(\"..\")\n",
    "\n",
    "from src.insight import (plot_sentiment_distribution, plot_rating_vs_sentiment, generate_wordclouds, generate_insights, generate_report)\n",
    "\n",
    "import pandas as pd\n",
    "\n",
    "DATA_PATH = Path(\"../data/bank_reviews_clean.csv\")\n",
    "OUTPUT_DIR = Path(\"../outputs\")\n",
    "OUTPUT_DIR.mkdir(exist_ok=True)"
   ]
  },
  {
   "cell_type": "markdown",
   "id": "5a2d8d78",
   "metadata": {},
   "source": [
    "Load data"
   ]
  },
  {
   "cell_type": "code",
   "execution_count": null,
   "id": "615015c5",
   "metadata": {},
   "outputs": [],
   "source": [
    "df = pd.read_csv(DATA_PATH)\n",
    "df['keywords'] = df['keywords'].apply(eval)\n",
    "df.head()"
   ]
  },
  {
   "cell_type": "markdown",
   "id": "940dcdbf",
   "metadata": {},
   "source": [
    "Generate visuals"
   ]
  },
  {
   "cell_type": "code",
   "execution_count": null,
   "id": "72d63158",
   "metadata": {},
   "outputs": [],
   "source": [
    "plot_sentiment_distribution(df, OUTPUT_DIR)\n",
    "plot_rating_vs_sentiment(df, OUTPUT_DIR)\n",
    "generate_wordclouds(df, OUTPUT_DIR)"
   ]
  },
  {
   "cell_type": "markdown",
   "id": "f806284e",
   "metadata": {},
   "source": [
    "Generate insight and report "
   ]
  },
  {
   "cell_type": "code",
   "execution_count": null,
   "id": "672a24d6",
   "metadata": {},
   "outputs": [],
   "source": [
    "insights = generate_insights(df)\n",
    "generate_report(insights, OUTPUT_DIR)"
   ]
  }
 ],
 "metadata": {
  "kernelspec": {
   "display_name": ".venv",
   "language": "python",
   "name": "python3"
  },
  "language_info": {
   "codemirror_mode": {
    "name": "ipython",
    "version": 3
   },
   "file_extension": ".py",
   "mimetype": "text/x-python",
   "name": "python",
   "nbconvert_exporter": "python",
   "pygments_lexer": "ipython3",
   "version": "3.11.9"
  }
 },
 "nbformat": 4,
 "nbformat_minor": 5
}
